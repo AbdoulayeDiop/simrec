{
 "cells": [
  {
   "cell_type": "markdown",
   "metadata": {},
   "source": [
    "# Imports"
   ]
  },
  {
   "cell_type": "code",
   "execution_count": null,
   "metadata": {},
   "outputs": [],
   "source": [
    "# import utlity functions to load and preprocess datasets\n",
    "from utils import load_data_file, preprocess\n",
    "\n",
    "# import the recommend function to perform recommendation\n",
    "from simrec import recommend"
   ]
  },
  {
   "cell_type": "markdown",
   "metadata": {},
   "source": [
    "# Load an example dataset"
   ]
  },
  {
   "cell_type": "code",
   "execution_count": 2,
   "metadata": {},
   "outputs": [],
   "source": [
    "path = \"example_datasets/dataset_2180_cleveland.arff\"\n",
    "# load the dataset\n",
    "X = load_data_file(path)\n",
    "# get the numerical and categorical parts\n",
    "Xnum, Xcat, _, _ = preprocess(X)"
   ]
  },
  {
   "cell_type": "markdown",
   "metadata": {},
   "source": [
    "# Perform recommendation"
   ]
  },
  {
   "cell_type": "code",
   "execution_count": 3,
   "metadata": {},
   "outputs": [
    {
     "data": {
      "text/plain": [
       "[('pearson_eskin', 0.536630757098409),\n",
       " ('pearson_dice', 0.5355313402431913),\n",
       " ('pearson_sokalmichener', 0.5304844933893288),\n",
       " ('pearson_rogerstanimoto', 0.5304844933893288),\n",
       " ('pearson_jaccard', 0.5283403074071998)]"
      ]
     },
     "execution_count": 3,
     "metadata": {},
     "output_type": "execute_result"
    }
   ],
   "source": [
    "# define the input algorithm and CVI\n",
    "algorithm = \"kprototypes\"\n",
    "cvi = \"sil\"\n",
    "\n",
    "# compute the recommendation. only return the top-5 similarity pairs\n",
    "recommendation = recommend(Xnum, Xcat, algorithm=algorithm, cvi=cvi, k=5)\n",
    "recommendation"
   ]
  }
 ],
 "metadata": {
  "kernelspec": {
   "display_name": "venv",
   "language": "python",
   "name": "python3"
  },
  "language_info": {
   "codemirror_mode": {
    "name": "ipython",
    "version": 3
   },
   "file_extension": ".py",
   "mimetype": "text/x-python",
   "name": "python",
   "nbconvert_exporter": "python",
   "pygments_lexer": "ipython3",
   "version": "3.10.5"
  }
 },
 "nbformat": 4,
 "nbformat_minor": 2
}
