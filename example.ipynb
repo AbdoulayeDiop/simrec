{
 "cells": [
  {
   "cell_type": "code",
   "execution_count": 5,
   "metadata": {},
   "outputs": [],
   "source": [
    "from sklearn.preprocessing import minmax_scale\n",
    "import pickle\n",
    "\n",
    "def load_dataset(path):\n",
    "    with open(path, \"rb\") as f:\n",
    "        data = pickle.load(f)\n",
    "    return data[\"Xnum\"], data[\"Xcat\"]\n",
    "\n",
    "dataset = \"example_datasets/5.pickle\"\n",
    "Xnum, Xcat = load_dataset(dataset)\n",
    "Xnum = minmax_scale(Xnum)"
   ]
  },
  {
   "cell_type": "code",
   "execution_count": 10,
   "metadata": {},
   "outputs": [
    {
     "data": {
      "text/plain": [
       "[('divergence_sokalsneath', 0.7648010348041523),\n",
       " ('divergence_kulsinski', 0.7624090235641215),\n",
       " ('divergence_jaccard', 0.7606379633720607),\n",
       " ('divergence_iof', 0.7591322589201143),\n",
       " ('divergence_russellrao', 0.7576224271926509)]"
      ]
     },
     "execution_count": 10,
     "metadata": {},
     "output_type": "execute_result"
    }
   ],
   "source": [
    "from simrec import recommend\n",
    "\n",
    "models_dir = \"meta_model_training/data/saved_models/\"\n",
    "algorithm = \"kprototypes\"\n",
    "cvi = \"acc\"\n",
    "recommendation = recommend(Xnum, Xcat, models_dir, algorithm=algorithm, cvi=cvi)\n",
    "recommendation"
   ]
  }
 ],
 "metadata": {
  "kernelspec": {
   "display_name": "venv",
   "language": "python",
   "name": "python3"
  },
  "language_info": {
   "codemirror_mode": {
    "name": "ipython",
    "version": 3
   },
   "file_extension": ".py",
   "mimetype": "text/x-python",
   "name": "python",
   "nbconvert_exporter": "python",
   "pygments_lexer": "ipython3",
   "version": "3.10.5"
  }
 },
 "nbformat": 4,
 "nbformat_minor": 2
}
